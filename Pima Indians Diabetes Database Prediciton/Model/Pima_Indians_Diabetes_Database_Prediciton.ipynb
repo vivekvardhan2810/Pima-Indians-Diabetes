{
  "nbformat": 4,
  "nbformat_minor": 0,
  "metadata": {
    "colab": {
      "provenance": []
    },
    "kernelspec": {
      "name": "python3",
      "display_name": "Python 3"
    },
    "language_info": {
      "name": "python"
    }
  },
  "cells": [
    {
      "cell_type": "markdown",
      "source": [
        "**Step 1: Loading the Dataset And Performing EDA**"
      ],
      "metadata": {
        "id": "SSzrq2t_TJ2d"
      }
    },
    {
      "cell_type": "code",
      "execution_count": 1,
      "metadata": {
        "id": "LwyAX1A5MjO_"
      },
      "outputs": [],
      "source": [
        "import pandas as pd"
      ]
    },
    {
      "cell_type": "code",
      "source": [
        "# Load the dataset\n",
        "df = pd.read_csv('/content/diabetes.csv')"
      ],
      "metadata": {
        "id": "hbptC5TtTrrK"
      },
      "execution_count": 2,
      "outputs": []
    },
    {
      "cell_type": "code",
      "source": [
        "# Display the first few rows of the dataset\n",
        "print(df.head())"
      ],
      "metadata": {
        "colab": {
          "base_uri": "https://localhost:8080/"
        },
        "id": "in57WSW1TvBh",
        "outputId": "11e5b6f1-f15d-42c4-a6e0-d3e9c5dced29"
      },
      "execution_count": 3,
      "outputs": [
        {
          "output_type": "stream",
          "name": "stdout",
          "text": [
            "   Pregnancies  Glucose  BloodPressure  SkinThickness  Insulin   BMI  \\\n",
            "0            6      148             72             35        0  33.6   \n",
            "1            1       85             66             29        0  26.6   \n",
            "2            8      183             64              0        0  23.3   \n",
            "3            1       89             66             23       94  28.1   \n",
            "4            0      137             40             35      168  43.1   \n",
            "\n",
            "   DiabetesPedigreeFunction  Age  Outcome  \n",
            "0                     0.627   50        1  \n",
            "1                     0.351   31        0  \n",
            "2                     0.672   32        1  \n",
            "3                     0.167   21        0  \n",
            "4                     2.288   33        1  \n"
          ]
        }
      ]
    },
    {
      "cell_type": "code",
      "source": [
        "# Get basic statistics of the dataset\n",
        "print(df.describe())"
      ],
      "metadata": {
        "colab": {
          "base_uri": "https://localhost:8080/"
        },
        "id": "P2IVXq0cTwvR",
        "outputId": "45a180ed-a49c-4bd7-8a88-5c88d61fbf87"
      },
      "execution_count": 4,
      "outputs": [
        {
          "output_type": "stream",
          "name": "stdout",
          "text": [
            "       Pregnancies     Glucose  BloodPressure  SkinThickness     Insulin  \\\n",
            "count   768.000000  768.000000     768.000000     768.000000  768.000000   \n",
            "mean      3.845052  120.894531      69.105469      20.536458   79.799479   \n",
            "std       3.369578   31.972618      19.355807      15.952218  115.244002   \n",
            "min       0.000000    0.000000       0.000000       0.000000    0.000000   \n",
            "25%       1.000000   99.000000      62.000000       0.000000    0.000000   \n",
            "50%       3.000000  117.000000      72.000000      23.000000   30.500000   \n",
            "75%       6.000000  140.250000      80.000000      32.000000  127.250000   \n",
            "max      17.000000  199.000000     122.000000      99.000000  846.000000   \n",
            "\n",
            "              BMI  DiabetesPedigreeFunction         Age     Outcome  \n",
            "count  768.000000                768.000000  768.000000  768.000000  \n",
            "mean    31.992578                  0.471876   33.240885    0.348958  \n",
            "std      7.884160                  0.331329   11.760232    0.476951  \n",
            "min      0.000000                  0.078000   21.000000    0.000000  \n",
            "25%     27.300000                  0.243750   24.000000    0.000000  \n",
            "50%     32.000000                  0.372500   29.000000    0.000000  \n",
            "75%     36.600000                  0.626250   41.000000    1.000000  \n",
            "max     67.100000                  2.420000   81.000000    1.000000  \n"
          ]
        }
      ]
    },
    {
      "cell_type": "code",
      "source": [
        "df.columns"
      ],
      "metadata": {
        "colab": {
          "base_uri": "https://localhost:8080/"
        },
        "id": "iFNauAHMUJJt",
        "outputId": "b04493e8-72ad-4bc6-ee64-ff780a8b2c95"
      },
      "execution_count": 8,
      "outputs": [
        {
          "output_type": "execute_result",
          "data": {
            "text/plain": [
              "Index(['Pregnancies', 'Glucose', 'BloodPressure', 'SkinThickness', 'Insulin',\n",
              "       'BMI', 'DiabetesPedigreeFunction', 'Age', 'Outcome'],\n",
              "      dtype='object')"
            ]
          },
          "metadata": {},
          "execution_count": 8
        }
      ]
    },
    {
      "cell_type": "code",
      "source": [
        "# Check for missing values\n",
        "print(df.isnull().sum())"
      ],
      "metadata": {
        "colab": {
          "base_uri": "https://localhost:8080/"
        },
        "id": "tCEqX_Q0Tyjx",
        "outputId": "bae37e7f-fabd-4d23-fcb7-f00e8e622ce3"
      },
      "execution_count": 9,
      "outputs": [
        {
          "output_type": "stream",
          "name": "stdout",
          "text": [
            "Pregnancies                 0\n",
            "Glucose                     0\n",
            "BloodPressure               0\n",
            "SkinThickness               0\n",
            "Insulin                     0\n",
            "BMI                         0\n",
            "DiabetesPedigreeFunction    0\n",
            "Age                         0\n",
            "Outcome                     0\n",
            "dtype: int64\n"
          ]
        }
      ]
    },
    {
      "cell_type": "markdown",
      "source": [
        "**Step 2: Preprocessing the Data**"
      ],
      "metadata": {
        "id": "74rd6ToYT1sM"
      }
    },
    {
      "cell_type": "code",
      "source": [
        "from sklearn.model_selection import train_test_split\n",
        "from sklearn.preprocessing import StandardScaler"
      ],
      "metadata": {
        "id": "S_r_NTvuT7Nt"
      },
      "execution_count": 10,
      "outputs": []
    },
    {
      "cell_type": "code",
      "source": [
        "# Define features and target\n",
        "X = df.drop('Outcome', axis=1)\n",
        "y = df['Outcome']"
      ],
      "metadata": {
        "id": "tKm7D50VUGEQ"
      },
      "execution_count": 11,
      "outputs": []
    },
    {
      "cell_type": "code",
      "source": [
        "# Split the data into training and testing datasets\n",
        "X_train, X_test, y_train, y_test = train_test_split(X, y, test_size=0.2, random_state=42)"
      ],
      "metadata": {
        "id": "-nG1SxCNUawv"
      },
      "execution_count": 12,
      "outputs": []
    },
    {
      "cell_type": "code",
      "source": [
        "# Standardize the data\n",
        "scaler = StandardScaler()\n",
        "X_train_scaled = scaler.fit_transform(X_train)\n",
        "X_test_scaled = scaler.transform(X_test)"
      ],
      "metadata": {
        "id": "_Xc732QmUt_4"
      },
      "execution_count": 13,
      "outputs": []
    },
    {
      "cell_type": "markdown",
      "source": [
        "**Step 3: Comparing the Models and their Prediction**"
      ],
      "metadata": {
        "id": "8ixqPbsMVAvV"
      }
    },
    {
      "cell_type": "markdown",
      "source": [
        "**LSTM**"
      ],
      "metadata": {
        "id": "nGoxtTb7VJ5n"
      }
    },
    {
      "cell_type": "code",
      "source": [
        "import numpy as np\n",
        "import tensorflow as tf\n",
        "from tensorflow.keras.models import Sequential\n",
        "from tensorflow.keras.layers import LSTM, Dense, Dropout"
      ],
      "metadata": {
        "id": "PvRj9CcWVIfK"
      },
      "execution_count": 14,
      "outputs": []
    },
    {
      "cell_type": "code",
      "source": [
        "# Reshape data for LSTM\n",
        "X_train_lstm = np.reshape(X_train_scaled, (X_train_scaled.shape[0], 1, X_train_scaled.shape[1]))\n",
        "X_test_lstm = np.reshape(X_test_scaled, (X_test_scaled.shape[0], 1, X_test_scaled.shape[1]))"
      ],
      "metadata": {
        "id": "_6xQTAreVjAf"
      },
      "execution_count": 15,
      "outputs": []
    },
    {
      "cell_type": "code",
      "source": [
        "# Build the LSTM model\n",
        "lstm_model = Sequential()\n",
        "lstm_model.add(LSTM(50, return_sequences=True, input_shape=(1, X_train_scaled.shape[1])))\n",
        "lstm_model.add(Dropout(0.2))\n",
        "lstm_model.add(LSTM(50))\n",
        "lstm_model.add(Dropout(0.2))\n",
        "lstm_model.add(Dense(1, activation='sigmoid'))"
      ],
      "metadata": {
        "id": "w6guBseJV1ne"
      },
      "execution_count": 16,
      "outputs": []
    },
    {
      "cell_type": "code",
      "source": [
        "# Compile the model\n",
        "lstm_model.compile(optimizer='adam', loss='binary_crossentropy', metrics=['accuracy'])\n",
        "\n",
        "# Train the model\n",
        "lstm_history = lstm_model.fit(X_train_lstm, y_train, epochs=50, batch_size=32, validation_data=(X_test_lstm, y_test))"
      ],
      "metadata": {
        "colab": {
          "base_uri": "https://localhost:8080/"
        },
        "id": "D3RyW0iCV3gW",
        "outputId": "262dfa07-fcac-4011-9c82-e573b75bf1a7"
      },
      "execution_count": 17,
      "outputs": [
        {
          "output_type": "stream",
          "name": "stdout",
          "text": [
            "Epoch 1/50\n",
            "20/20 [==============================] - 8s 93ms/step - loss: 0.6808 - accuracy: 0.6971 - val_loss: 0.6672 - val_accuracy: 0.7338\n",
            "Epoch 2/50\n",
            "20/20 [==============================] - 0s 7ms/step - loss: 0.6490 - accuracy: 0.7378 - val_loss: 0.6292 - val_accuracy: 0.7403\n",
            "Epoch 3/50\n",
            "20/20 [==============================] - 0s 7ms/step - loss: 0.6033 - accuracy: 0.7476 - val_loss: 0.5803 - val_accuracy: 0.7468\n",
            "Epoch 4/50\n",
            "20/20 [==============================] - 0s 8ms/step - loss: 0.5433 - accuracy: 0.7443 - val_loss: 0.5340 - val_accuracy: 0.7273\n",
            "Epoch 5/50\n",
            "20/20 [==============================] - 0s 10ms/step - loss: 0.4987 - accuracy: 0.7524 - val_loss: 0.5119 - val_accuracy: 0.7403\n",
            "Epoch 6/50\n",
            "20/20 [==============================] - 0s 7ms/step - loss: 0.4833 - accuracy: 0.7557 - val_loss: 0.5046 - val_accuracy: 0.7338\n",
            "Epoch 7/50\n",
            "20/20 [==============================] - 0s 7ms/step - loss: 0.4682 - accuracy: 0.7736 - val_loss: 0.5025 - val_accuracy: 0.7338\n",
            "Epoch 8/50\n",
            "20/20 [==============================] - 0s 7ms/step - loss: 0.4651 - accuracy: 0.7687 - val_loss: 0.5024 - val_accuracy: 0.7468\n",
            "Epoch 9/50\n",
            "20/20 [==============================] - 0s 7ms/step - loss: 0.4532 - accuracy: 0.7752 - val_loss: 0.5037 - val_accuracy: 0.7468\n",
            "Epoch 10/50\n",
            "20/20 [==============================] - 0s 7ms/step - loss: 0.4541 - accuracy: 0.7850 - val_loss: 0.5028 - val_accuracy: 0.7403\n",
            "Epoch 11/50\n",
            "20/20 [==============================] - 0s 10ms/step - loss: 0.4488 - accuracy: 0.7866 - val_loss: 0.5011 - val_accuracy: 0.7662\n",
            "Epoch 12/50\n",
            "20/20 [==============================] - 0s 8ms/step - loss: 0.4465 - accuracy: 0.7850 - val_loss: 0.5053 - val_accuracy: 0.7597\n",
            "Epoch 13/50\n",
            "20/20 [==============================] - 0s 7ms/step - loss: 0.4456 - accuracy: 0.7866 - val_loss: 0.5052 - val_accuracy: 0.7597\n",
            "Epoch 14/50\n",
            "20/20 [==============================] - 0s 8ms/step - loss: 0.4442 - accuracy: 0.7899 - val_loss: 0.5081 - val_accuracy: 0.7532\n",
            "Epoch 15/50\n",
            "20/20 [==============================] - 0s 7ms/step - loss: 0.4416 - accuracy: 0.7818 - val_loss: 0.5082 - val_accuracy: 0.7532\n",
            "Epoch 16/50\n",
            "20/20 [==============================] - 0s 7ms/step - loss: 0.4388 - accuracy: 0.7785 - val_loss: 0.5128 - val_accuracy: 0.7532\n",
            "Epoch 17/50\n",
            "20/20 [==============================] - 0s 10ms/step - loss: 0.4355 - accuracy: 0.7866 - val_loss: 0.5132 - val_accuracy: 0.7532\n",
            "Epoch 18/50\n",
            "20/20 [==============================] - 0s 7ms/step - loss: 0.4349 - accuracy: 0.7899 - val_loss: 0.5153 - val_accuracy: 0.7532\n",
            "Epoch 19/50\n",
            "20/20 [==============================] - 0s 7ms/step - loss: 0.4362 - accuracy: 0.7850 - val_loss: 0.5157 - val_accuracy: 0.7532\n",
            "Epoch 20/50\n",
            "20/20 [==============================] - 0s 7ms/step - loss: 0.4304 - accuracy: 0.7997 - val_loss: 0.5174 - val_accuracy: 0.7532\n",
            "Epoch 21/50\n",
            "20/20 [==============================] - 0s 7ms/step - loss: 0.4336 - accuracy: 0.7850 - val_loss: 0.5163 - val_accuracy: 0.7597\n",
            "Epoch 22/50\n",
            "20/20 [==============================] - 0s 7ms/step - loss: 0.4328 - accuracy: 0.7850 - val_loss: 0.5135 - val_accuracy: 0.7597\n",
            "Epoch 23/50\n",
            "20/20 [==============================] - 0s 8ms/step - loss: 0.4335 - accuracy: 0.7834 - val_loss: 0.5147 - val_accuracy: 0.7597\n",
            "Epoch 24/50\n",
            "20/20 [==============================] - 0s 9ms/step - loss: 0.4299 - accuracy: 0.7834 - val_loss: 0.5169 - val_accuracy: 0.7597\n",
            "Epoch 25/50\n",
            "20/20 [==============================] - 0s 7ms/step - loss: 0.4353 - accuracy: 0.7834 - val_loss: 0.5154 - val_accuracy: 0.7597\n",
            "Epoch 26/50\n",
            "20/20 [==============================] - 0s 7ms/step - loss: 0.4285 - accuracy: 0.7915 - val_loss: 0.5197 - val_accuracy: 0.7597\n",
            "Epoch 27/50\n",
            "20/20 [==============================] - 0s 7ms/step - loss: 0.4308 - accuracy: 0.7850 - val_loss: 0.5205 - val_accuracy: 0.7597\n",
            "Epoch 28/50\n",
            "20/20 [==============================] - 0s 7ms/step - loss: 0.4294 - accuracy: 0.7866 - val_loss: 0.5250 - val_accuracy: 0.7468\n",
            "Epoch 29/50\n",
            "20/20 [==============================] - 0s 8ms/step - loss: 0.4242 - accuracy: 0.7915 - val_loss: 0.5273 - val_accuracy: 0.7532\n",
            "Epoch 30/50\n",
            "20/20 [==============================] - 0s 9ms/step - loss: 0.4262 - accuracy: 0.7915 - val_loss: 0.5253 - val_accuracy: 0.7532\n",
            "Epoch 31/50\n",
            "20/20 [==============================] - 0s 7ms/step - loss: 0.4290 - accuracy: 0.7752 - val_loss: 0.5244 - val_accuracy: 0.7597\n",
            "Epoch 32/50\n",
            "20/20 [==============================] - 0s 7ms/step - loss: 0.4249 - accuracy: 0.7915 - val_loss: 0.5195 - val_accuracy: 0.7662\n",
            "Epoch 33/50\n",
            "20/20 [==============================] - 0s 7ms/step - loss: 0.4241 - accuracy: 0.7883 - val_loss: 0.5221 - val_accuracy: 0.7597\n",
            "Epoch 34/50\n",
            "20/20 [==============================] - 0s 7ms/step - loss: 0.4261 - accuracy: 0.7785 - val_loss: 0.5236 - val_accuracy: 0.7662\n",
            "Epoch 35/50\n",
            "20/20 [==============================] - 0s 8ms/step - loss: 0.4220 - accuracy: 0.7834 - val_loss: 0.5293 - val_accuracy: 0.7468\n",
            "Epoch 36/50\n",
            "20/20 [==============================] - 0s 8ms/step - loss: 0.4203 - accuracy: 0.7818 - val_loss: 0.5291 - val_accuracy: 0.7403\n",
            "Epoch 37/50\n",
            "20/20 [==============================] - 0s 8ms/step - loss: 0.4274 - accuracy: 0.7915 - val_loss: 0.5272 - val_accuracy: 0.7468\n",
            "Epoch 38/50\n",
            "20/20 [==============================] - 0s 7ms/step - loss: 0.4183 - accuracy: 0.7883 - val_loss: 0.5273 - val_accuracy: 0.7532\n",
            "Epoch 39/50\n",
            "20/20 [==============================] - 0s 7ms/step - loss: 0.4192 - accuracy: 0.7915 - val_loss: 0.5275 - val_accuracy: 0.7532\n",
            "Epoch 40/50\n",
            "20/20 [==============================] - 0s 7ms/step - loss: 0.4239 - accuracy: 0.7932 - val_loss: 0.5281 - val_accuracy: 0.7597\n",
            "Epoch 41/50\n",
            "20/20 [==============================] - 0s 7ms/step - loss: 0.4179 - accuracy: 0.8013 - val_loss: 0.5338 - val_accuracy: 0.7597\n",
            "Epoch 42/50\n",
            "20/20 [==============================] - 0s 8ms/step - loss: 0.4138 - accuracy: 0.8029 - val_loss: 0.5314 - val_accuracy: 0.7597\n",
            "Epoch 43/50\n",
            "20/20 [==============================] - 0s 10ms/step - loss: 0.4215 - accuracy: 0.7801 - val_loss: 0.5341 - val_accuracy: 0.7532\n",
            "Epoch 44/50\n",
            "20/20 [==============================] - 0s 8ms/step - loss: 0.4172 - accuracy: 0.7915 - val_loss: 0.5375 - val_accuracy: 0.7468\n",
            "Epoch 45/50\n",
            "20/20 [==============================] - 0s 8ms/step - loss: 0.4247 - accuracy: 0.7769 - val_loss: 0.5345 - val_accuracy: 0.7532\n",
            "Epoch 46/50\n",
            "20/20 [==============================] - 0s 7ms/step - loss: 0.4278 - accuracy: 0.7948 - val_loss: 0.5310 - val_accuracy: 0.7662\n",
            "Epoch 47/50\n",
            "20/20 [==============================] - 0s 7ms/step - loss: 0.4149 - accuracy: 0.7997 - val_loss: 0.5342 - val_accuracy: 0.7662\n",
            "Epoch 48/50\n",
            "20/20 [==============================] - 0s 8ms/step - loss: 0.4113 - accuracy: 0.7932 - val_loss: 0.5385 - val_accuracy: 0.7597\n",
            "Epoch 49/50\n",
            "20/20 [==============================] - 0s 8ms/step - loss: 0.4226 - accuracy: 0.7834 - val_loss: 0.5445 - val_accuracy: 0.7468\n",
            "Epoch 50/50\n",
            "20/20 [==============================] - 0s 9ms/step - loss: 0.4230 - accuracy: 0.7948 - val_loss: 0.5413 - val_accuracy: 0.7597\n"
          ]
        }
      ]
    },
    {
      "cell_type": "code",
      "source": [
        "# Evaluate the model\n",
        "lstm_eval = lstm_model.evaluate(X_test_lstm, y_test)\n",
        "print(f\"LSTM Model Accuracy: {lstm_eval[1]*100:.2f}%\")"
      ],
      "metadata": {
        "colab": {
          "base_uri": "https://localhost:8080/"
        },
        "id": "Ayy6loW6V6dz",
        "outputId": "a8a4d459-c63c-406b-8579-962fea6b4bbc"
      },
      "execution_count": 18,
      "outputs": [
        {
          "output_type": "stream",
          "name": "stdout",
          "text": [
            "5/5 [==============================] - 0s 14ms/step - loss: 0.5413 - accuracy: 0.7597\n",
            "LSTM Model Accuracy: 75.97%\n"
          ]
        }
      ]
    },
    {
      "cell_type": "markdown",
      "source": [
        "**KNN**"
      ],
      "metadata": {
        "id": "AbDbj8-EWKvd"
      }
    },
    {
      "cell_type": "code",
      "source": [
        "from sklearn.neighbors import KNeighborsClassifier\n",
        "from sklearn.metrics import accuracy_score, classification_report"
      ],
      "metadata": {
        "id": "qZne8raoWMvJ"
      },
      "execution_count": 19,
      "outputs": []
    },
    {
      "cell_type": "code",
      "source": [
        "# Build the KNN model\n",
        "knn_model = KNeighborsClassifier(n_neighbors=5)\n",
        "\n",
        "# Train the model\n",
        "knn_model.fit(X_train_scaled, y_train)"
      ],
      "metadata": {
        "colab": {
          "base_uri": "https://localhost:8080/",
          "height": 74
        },
        "id": "Z5RBZqi7WOVR",
        "outputId": "b9ad3d69-86fa-46f2-b305-9433e51b1801"
      },
      "execution_count": 20,
      "outputs": [
        {
          "output_type": "execute_result",
          "data": {
            "text/plain": [
              "KNeighborsClassifier()"
            ],
            "text/html": [
              "<style>#sk-container-id-1 {color: black;background-color: white;}#sk-container-id-1 pre{padding: 0;}#sk-container-id-1 div.sk-toggleable {background-color: white;}#sk-container-id-1 label.sk-toggleable__label {cursor: pointer;display: block;width: 100%;margin-bottom: 0;padding: 0.3em;box-sizing: border-box;text-align: center;}#sk-container-id-1 label.sk-toggleable__label-arrow:before {content: \"▸\";float: left;margin-right: 0.25em;color: #696969;}#sk-container-id-1 label.sk-toggleable__label-arrow:hover:before {color: black;}#sk-container-id-1 div.sk-estimator:hover label.sk-toggleable__label-arrow:before {color: black;}#sk-container-id-1 div.sk-toggleable__content {max-height: 0;max-width: 0;overflow: hidden;text-align: left;background-color: #f0f8ff;}#sk-container-id-1 div.sk-toggleable__content pre {margin: 0.2em;color: black;border-radius: 0.25em;background-color: #f0f8ff;}#sk-container-id-1 input.sk-toggleable__control:checked~div.sk-toggleable__content {max-height: 200px;max-width: 100%;overflow: auto;}#sk-container-id-1 input.sk-toggleable__control:checked~label.sk-toggleable__label-arrow:before {content: \"▾\";}#sk-container-id-1 div.sk-estimator input.sk-toggleable__control:checked~label.sk-toggleable__label {background-color: #d4ebff;}#sk-container-id-1 div.sk-label input.sk-toggleable__control:checked~label.sk-toggleable__label {background-color: #d4ebff;}#sk-container-id-1 input.sk-hidden--visually {border: 0;clip: rect(1px 1px 1px 1px);clip: rect(1px, 1px, 1px, 1px);height: 1px;margin: -1px;overflow: hidden;padding: 0;position: absolute;width: 1px;}#sk-container-id-1 div.sk-estimator {font-family: monospace;background-color: #f0f8ff;border: 1px dotted black;border-radius: 0.25em;box-sizing: border-box;margin-bottom: 0.5em;}#sk-container-id-1 div.sk-estimator:hover {background-color: #d4ebff;}#sk-container-id-1 div.sk-parallel-item::after {content: \"\";width: 100%;border-bottom: 1px solid gray;flex-grow: 1;}#sk-container-id-1 div.sk-label:hover label.sk-toggleable__label {background-color: #d4ebff;}#sk-container-id-1 div.sk-serial::before {content: \"\";position: absolute;border-left: 1px solid gray;box-sizing: border-box;top: 0;bottom: 0;left: 50%;z-index: 0;}#sk-container-id-1 div.sk-serial {display: flex;flex-direction: column;align-items: center;background-color: white;padding-right: 0.2em;padding-left: 0.2em;position: relative;}#sk-container-id-1 div.sk-item {position: relative;z-index: 1;}#sk-container-id-1 div.sk-parallel {display: flex;align-items: stretch;justify-content: center;background-color: white;position: relative;}#sk-container-id-1 div.sk-item::before, #sk-container-id-1 div.sk-parallel-item::before {content: \"\";position: absolute;border-left: 1px solid gray;box-sizing: border-box;top: 0;bottom: 0;left: 50%;z-index: -1;}#sk-container-id-1 div.sk-parallel-item {display: flex;flex-direction: column;z-index: 1;position: relative;background-color: white;}#sk-container-id-1 div.sk-parallel-item:first-child::after {align-self: flex-end;width: 50%;}#sk-container-id-1 div.sk-parallel-item:last-child::after {align-self: flex-start;width: 50%;}#sk-container-id-1 div.sk-parallel-item:only-child::after {width: 0;}#sk-container-id-1 div.sk-dashed-wrapped {border: 1px dashed gray;margin: 0 0.4em 0.5em 0.4em;box-sizing: border-box;padding-bottom: 0.4em;background-color: white;}#sk-container-id-1 div.sk-label label {font-family: monospace;font-weight: bold;display: inline-block;line-height: 1.2em;}#sk-container-id-1 div.sk-label-container {text-align: center;}#sk-container-id-1 div.sk-container {/* jupyter's `normalize.less` sets `[hidden] { display: none; }` but bootstrap.min.css set `[hidden] { display: none !important; }` so we also need the `!important` here to be able to override the default hidden behavior on the sphinx rendered scikit-learn.org. See: https://github.com/scikit-learn/scikit-learn/issues/21755 */display: inline-block !important;position: relative;}#sk-container-id-1 div.sk-text-repr-fallback {display: none;}</style><div id=\"sk-container-id-1\" class=\"sk-top-container\"><div class=\"sk-text-repr-fallback\"><pre>KNeighborsClassifier()</pre><b>In a Jupyter environment, please rerun this cell to show the HTML representation or trust the notebook. <br />On GitHub, the HTML representation is unable to render, please try loading this page with nbviewer.org.</b></div><div class=\"sk-container\" hidden><div class=\"sk-item\"><div class=\"sk-estimator sk-toggleable\"><input class=\"sk-toggleable__control sk-hidden--visually\" id=\"sk-estimator-id-1\" type=\"checkbox\" checked><label for=\"sk-estimator-id-1\" class=\"sk-toggleable__label sk-toggleable__label-arrow\">KNeighborsClassifier</label><div class=\"sk-toggleable__content\"><pre>KNeighborsClassifier()</pre></div></div></div></div></div>"
            ]
          },
          "metadata": {},
          "execution_count": 20
        }
      ]
    },
    {
      "cell_type": "code",
      "source": [
        "# Predict the results\n",
        "knn_predictions = knn_model.predict(X_test_scaled)"
      ],
      "metadata": {
        "id": "InNJlEX2WQAw"
      },
      "execution_count": 21,
      "outputs": []
    },
    {
      "cell_type": "code",
      "source": [
        "# Evaluate the model\n",
        "knn_accuracy = accuracy_score(y_test, knn_predictions)\n",
        "print(f\"KNN Model Accuracy: {knn_accuracy*100:.2f}%\")\n",
        "print(classification_report(y_test, knn_predictions))"
      ],
      "metadata": {
        "colab": {
          "base_uri": "https://localhost:8080/"
        },
        "id": "XOFvsvyPWRiX",
        "outputId": "ef0c142c-3148-4c1d-d176-6bc21af8fa5d"
      },
      "execution_count": 22,
      "outputs": [
        {
          "output_type": "stream",
          "name": "stdout",
          "text": [
            "KNN Model Accuracy: 69.48%\n",
            "              precision    recall  f1-score   support\n",
            "\n",
            "           0       0.75      0.80      0.77        99\n",
            "           1       0.58      0.51      0.54        55\n",
            "\n",
            "    accuracy                           0.69       154\n",
            "   macro avg       0.66      0.65      0.66       154\n",
            "weighted avg       0.69      0.69      0.69       154\n",
            "\n"
          ]
        }
      ]
    },
    {
      "cell_type": "markdown",
      "source": [
        "**K-Means Clustering**"
      ],
      "metadata": {
        "id": "qPzDy-s9WfGI"
      }
    },
    {
      "cell_type": "code",
      "source": [
        "from sklearn.cluster import KMeans\n",
        "from sklearn.metrics import confusion_matrix"
      ],
      "metadata": {
        "id": "9HfzCmaKWhTN"
      },
      "execution_count": 23,
      "outputs": []
    },
    {
      "cell_type": "code",
      "source": [
        "# Build the K-Means model\n",
        "kmeans_model = KMeans(n_clusters=2, random_state=42)\n",
        "\n",
        "# Train the model\n",
        "kmeans_model.fit(X_train_scaled)"
      ],
      "metadata": {
        "colab": {
          "base_uri": "https://localhost:8080/",
          "height": 129
        },
        "id": "cC5bi7lNWj38",
        "outputId": "debc1202-0f7f-4ef0-a021-74ad4e1a0a72"
      },
      "execution_count": 24,
      "outputs": [
        {
          "output_type": "stream",
          "name": "stderr",
          "text": [
            "/usr/local/lib/python3.10/dist-packages/sklearn/cluster/_kmeans.py:870: FutureWarning: The default value of `n_init` will change from 10 to 'auto' in 1.4. Set the value of `n_init` explicitly to suppress the warning\n",
            "  warnings.warn(\n"
          ]
        },
        {
          "output_type": "execute_result",
          "data": {
            "text/plain": [
              "KMeans(n_clusters=2, random_state=42)"
            ],
            "text/html": [
              "<style>#sk-container-id-2 {color: black;background-color: white;}#sk-container-id-2 pre{padding: 0;}#sk-container-id-2 div.sk-toggleable {background-color: white;}#sk-container-id-2 label.sk-toggleable__label {cursor: pointer;display: block;width: 100%;margin-bottom: 0;padding: 0.3em;box-sizing: border-box;text-align: center;}#sk-container-id-2 label.sk-toggleable__label-arrow:before {content: \"▸\";float: left;margin-right: 0.25em;color: #696969;}#sk-container-id-2 label.sk-toggleable__label-arrow:hover:before {color: black;}#sk-container-id-2 div.sk-estimator:hover label.sk-toggleable__label-arrow:before {color: black;}#sk-container-id-2 div.sk-toggleable__content {max-height: 0;max-width: 0;overflow: hidden;text-align: left;background-color: #f0f8ff;}#sk-container-id-2 div.sk-toggleable__content pre {margin: 0.2em;color: black;border-radius: 0.25em;background-color: #f0f8ff;}#sk-container-id-2 input.sk-toggleable__control:checked~div.sk-toggleable__content {max-height: 200px;max-width: 100%;overflow: auto;}#sk-container-id-2 input.sk-toggleable__control:checked~label.sk-toggleable__label-arrow:before {content: \"▾\";}#sk-container-id-2 div.sk-estimator input.sk-toggleable__control:checked~label.sk-toggleable__label {background-color: #d4ebff;}#sk-container-id-2 div.sk-label input.sk-toggleable__control:checked~label.sk-toggleable__label {background-color: #d4ebff;}#sk-container-id-2 input.sk-hidden--visually {border: 0;clip: rect(1px 1px 1px 1px);clip: rect(1px, 1px, 1px, 1px);height: 1px;margin: -1px;overflow: hidden;padding: 0;position: absolute;width: 1px;}#sk-container-id-2 div.sk-estimator {font-family: monospace;background-color: #f0f8ff;border: 1px dotted black;border-radius: 0.25em;box-sizing: border-box;margin-bottom: 0.5em;}#sk-container-id-2 div.sk-estimator:hover {background-color: #d4ebff;}#sk-container-id-2 div.sk-parallel-item::after {content: \"\";width: 100%;border-bottom: 1px solid gray;flex-grow: 1;}#sk-container-id-2 div.sk-label:hover label.sk-toggleable__label {background-color: #d4ebff;}#sk-container-id-2 div.sk-serial::before {content: \"\";position: absolute;border-left: 1px solid gray;box-sizing: border-box;top: 0;bottom: 0;left: 50%;z-index: 0;}#sk-container-id-2 div.sk-serial {display: flex;flex-direction: column;align-items: center;background-color: white;padding-right: 0.2em;padding-left: 0.2em;position: relative;}#sk-container-id-2 div.sk-item {position: relative;z-index: 1;}#sk-container-id-2 div.sk-parallel {display: flex;align-items: stretch;justify-content: center;background-color: white;position: relative;}#sk-container-id-2 div.sk-item::before, #sk-container-id-2 div.sk-parallel-item::before {content: \"\";position: absolute;border-left: 1px solid gray;box-sizing: border-box;top: 0;bottom: 0;left: 50%;z-index: -1;}#sk-container-id-2 div.sk-parallel-item {display: flex;flex-direction: column;z-index: 1;position: relative;background-color: white;}#sk-container-id-2 div.sk-parallel-item:first-child::after {align-self: flex-end;width: 50%;}#sk-container-id-2 div.sk-parallel-item:last-child::after {align-self: flex-start;width: 50%;}#sk-container-id-2 div.sk-parallel-item:only-child::after {width: 0;}#sk-container-id-2 div.sk-dashed-wrapped {border: 1px dashed gray;margin: 0 0.4em 0.5em 0.4em;box-sizing: border-box;padding-bottom: 0.4em;background-color: white;}#sk-container-id-2 div.sk-label label {font-family: monospace;font-weight: bold;display: inline-block;line-height: 1.2em;}#sk-container-id-2 div.sk-label-container {text-align: center;}#sk-container-id-2 div.sk-container {/* jupyter's `normalize.less` sets `[hidden] { display: none; }` but bootstrap.min.css set `[hidden] { display: none !important; }` so we also need the `!important` here to be able to override the default hidden behavior on the sphinx rendered scikit-learn.org. See: https://github.com/scikit-learn/scikit-learn/issues/21755 */display: inline-block !important;position: relative;}#sk-container-id-2 div.sk-text-repr-fallback {display: none;}</style><div id=\"sk-container-id-2\" class=\"sk-top-container\"><div class=\"sk-text-repr-fallback\"><pre>KMeans(n_clusters=2, random_state=42)</pre><b>In a Jupyter environment, please rerun this cell to show the HTML representation or trust the notebook. <br />On GitHub, the HTML representation is unable to render, please try loading this page with nbviewer.org.</b></div><div class=\"sk-container\" hidden><div class=\"sk-item\"><div class=\"sk-estimator sk-toggleable\"><input class=\"sk-toggleable__control sk-hidden--visually\" id=\"sk-estimator-id-2\" type=\"checkbox\" checked><label for=\"sk-estimator-id-2\" class=\"sk-toggleable__label sk-toggleable__label-arrow\">KMeans</label><div class=\"sk-toggleable__content\"><pre>KMeans(n_clusters=2, random_state=42)</pre></div></div></div></div></div>"
            ]
          },
          "metadata": {},
          "execution_count": 24
        }
      ]
    },
    {
      "cell_type": "code",
      "source": [
        "# Predict the results\n",
        "kmeans_predictions = kmeans_model.predict(X_test_scaled)"
      ],
      "metadata": {
        "id": "4Isf57l1WrOe"
      },
      "execution_count": 25,
      "outputs": []
    },
    {
      "cell_type": "code",
      "source": [
        "# Evaluate the model\n",
        "kmeans_confusion = confusion_matrix(y_test, kmeans_predictions)\n",
        "print(\"K-Means Confusion Matrix:\")\n",
        "print(kmeans_confusion)"
      ],
      "metadata": {
        "colab": {
          "base_uri": "https://localhost:8080/"
        },
        "id": "hSHh5GAcWs7X",
        "outputId": "9d59dc0f-1ed6-4863-aa50-a649724d15a3"
      },
      "execution_count": 26,
      "outputs": [
        {
          "output_type": "stream",
          "name": "stdout",
          "text": [
            "K-Means Confusion Matrix:\n",
            "[[66 33]\n",
            " [24 31]]\n"
          ]
        }
      ]
    },
    {
      "cell_type": "markdown",
      "source": [
        "**SVM**"
      ],
      "metadata": {
        "id": "SzKp72xtWvWG"
      }
    },
    {
      "cell_type": "code",
      "source": [
        "from sklearn.svm import SVC"
      ],
      "metadata": {
        "id": "WPY8M6lnWxPE"
      },
      "execution_count": 27,
      "outputs": []
    },
    {
      "cell_type": "code",
      "source": [
        "# Build the SVM model\n",
        "svm_model = SVC(kernel='linear')\n",
        "\n",
        "# Train the model\n",
        "svm_model.fit(X_train_scaled, y_train)"
      ],
      "metadata": {
        "colab": {
          "base_uri": "https://localhost:8080/",
          "height": 74
        },
        "id": "GzXAXQeVWykw",
        "outputId": "2920e680-d357-4715-baec-905096925c98"
      },
      "execution_count": 28,
      "outputs": [
        {
          "output_type": "execute_result",
          "data": {
            "text/plain": [
              "SVC(kernel='linear')"
            ],
            "text/html": [
              "<style>#sk-container-id-3 {color: black;background-color: white;}#sk-container-id-3 pre{padding: 0;}#sk-container-id-3 div.sk-toggleable {background-color: white;}#sk-container-id-3 label.sk-toggleable__label {cursor: pointer;display: block;width: 100%;margin-bottom: 0;padding: 0.3em;box-sizing: border-box;text-align: center;}#sk-container-id-3 label.sk-toggleable__label-arrow:before {content: \"▸\";float: left;margin-right: 0.25em;color: #696969;}#sk-container-id-3 label.sk-toggleable__label-arrow:hover:before {color: black;}#sk-container-id-3 div.sk-estimator:hover label.sk-toggleable__label-arrow:before {color: black;}#sk-container-id-3 div.sk-toggleable__content {max-height: 0;max-width: 0;overflow: hidden;text-align: left;background-color: #f0f8ff;}#sk-container-id-3 div.sk-toggleable__content pre {margin: 0.2em;color: black;border-radius: 0.25em;background-color: #f0f8ff;}#sk-container-id-3 input.sk-toggleable__control:checked~div.sk-toggleable__content {max-height: 200px;max-width: 100%;overflow: auto;}#sk-container-id-3 input.sk-toggleable__control:checked~label.sk-toggleable__label-arrow:before {content: \"▾\";}#sk-container-id-3 div.sk-estimator input.sk-toggleable__control:checked~label.sk-toggleable__label {background-color: #d4ebff;}#sk-container-id-3 div.sk-label input.sk-toggleable__control:checked~label.sk-toggleable__label {background-color: #d4ebff;}#sk-container-id-3 input.sk-hidden--visually {border: 0;clip: rect(1px 1px 1px 1px);clip: rect(1px, 1px, 1px, 1px);height: 1px;margin: -1px;overflow: hidden;padding: 0;position: absolute;width: 1px;}#sk-container-id-3 div.sk-estimator {font-family: monospace;background-color: #f0f8ff;border: 1px dotted black;border-radius: 0.25em;box-sizing: border-box;margin-bottom: 0.5em;}#sk-container-id-3 div.sk-estimator:hover {background-color: #d4ebff;}#sk-container-id-3 div.sk-parallel-item::after {content: \"\";width: 100%;border-bottom: 1px solid gray;flex-grow: 1;}#sk-container-id-3 div.sk-label:hover label.sk-toggleable__label {background-color: #d4ebff;}#sk-container-id-3 div.sk-serial::before {content: \"\";position: absolute;border-left: 1px solid gray;box-sizing: border-box;top: 0;bottom: 0;left: 50%;z-index: 0;}#sk-container-id-3 div.sk-serial {display: flex;flex-direction: column;align-items: center;background-color: white;padding-right: 0.2em;padding-left: 0.2em;position: relative;}#sk-container-id-3 div.sk-item {position: relative;z-index: 1;}#sk-container-id-3 div.sk-parallel {display: flex;align-items: stretch;justify-content: center;background-color: white;position: relative;}#sk-container-id-3 div.sk-item::before, #sk-container-id-3 div.sk-parallel-item::before {content: \"\";position: absolute;border-left: 1px solid gray;box-sizing: border-box;top: 0;bottom: 0;left: 50%;z-index: -1;}#sk-container-id-3 div.sk-parallel-item {display: flex;flex-direction: column;z-index: 1;position: relative;background-color: white;}#sk-container-id-3 div.sk-parallel-item:first-child::after {align-self: flex-end;width: 50%;}#sk-container-id-3 div.sk-parallel-item:last-child::after {align-self: flex-start;width: 50%;}#sk-container-id-3 div.sk-parallel-item:only-child::after {width: 0;}#sk-container-id-3 div.sk-dashed-wrapped {border: 1px dashed gray;margin: 0 0.4em 0.5em 0.4em;box-sizing: border-box;padding-bottom: 0.4em;background-color: white;}#sk-container-id-3 div.sk-label label {font-family: monospace;font-weight: bold;display: inline-block;line-height: 1.2em;}#sk-container-id-3 div.sk-label-container {text-align: center;}#sk-container-id-3 div.sk-container {/* jupyter's `normalize.less` sets `[hidden] { display: none; }` but bootstrap.min.css set `[hidden] { display: none !important; }` so we also need the `!important` here to be able to override the default hidden behavior on the sphinx rendered scikit-learn.org. See: https://github.com/scikit-learn/scikit-learn/issues/21755 */display: inline-block !important;position: relative;}#sk-container-id-3 div.sk-text-repr-fallback {display: none;}</style><div id=\"sk-container-id-3\" class=\"sk-top-container\"><div class=\"sk-text-repr-fallback\"><pre>SVC(kernel=&#x27;linear&#x27;)</pre><b>In a Jupyter environment, please rerun this cell to show the HTML representation or trust the notebook. <br />On GitHub, the HTML representation is unable to render, please try loading this page with nbviewer.org.</b></div><div class=\"sk-container\" hidden><div class=\"sk-item\"><div class=\"sk-estimator sk-toggleable\"><input class=\"sk-toggleable__control sk-hidden--visually\" id=\"sk-estimator-id-3\" type=\"checkbox\" checked><label for=\"sk-estimator-id-3\" class=\"sk-toggleable__label sk-toggleable__label-arrow\">SVC</label><div class=\"sk-toggleable__content\"><pre>SVC(kernel=&#x27;linear&#x27;)</pre></div></div></div></div></div>"
            ]
          },
          "metadata": {},
          "execution_count": 28
        }
      ]
    },
    {
      "cell_type": "code",
      "source": [
        "# Predict the results\n",
        "svm_predictions = svm_model.predict(X_test_scaled)"
      ],
      "metadata": {
        "id": "CBNoIynlW0lL"
      },
      "execution_count": 29,
      "outputs": []
    },
    {
      "cell_type": "code",
      "source": [
        "# Evaluate the model\n",
        "svm_accuracy = accuracy_score(y_test, svm_predictions)\n",
        "print(f\"SVM Model Accuracy: {svm_accuracy*100:.2f}%\")\n",
        "print(classification_report(y_test, svm_predictions))"
      ],
      "metadata": {
        "colab": {
          "base_uri": "https://localhost:8080/"
        },
        "id": "QDCsTyZfW2bz",
        "outputId": "ce6b1456-ce3c-4043-e4e8-4e994e8d88d3"
      },
      "execution_count": 30,
      "outputs": [
        {
          "output_type": "stream",
          "name": "stdout",
          "text": [
            "SVM Model Accuracy: 75.97%\n",
            "              precision    recall  f1-score   support\n",
            "\n",
            "           0       0.81      0.82      0.81        99\n",
            "           1       0.67      0.65      0.66        55\n",
            "\n",
            "    accuracy                           0.76       154\n",
            "   macro avg       0.74      0.74      0.74       154\n",
            "weighted avg       0.76      0.76      0.76       154\n",
            "\n"
          ]
        }
      ]
    },
    {
      "cell_type": "markdown",
      "source": [
        "**Stock Analysis Chart (Example using Matplotlib for accuracy comparison)**"
      ],
      "metadata": {
        "id": "-hI70urSW6Je"
      }
    },
    {
      "cell_type": "code",
      "source": [
        "import matplotlib.pyplot as plt"
      ],
      "metadata": {
        "id": "_O09tb3HW7aG"
      },
      "execution_count": 31,
      "outputs": []
    },
    {
      "cell_type": "code",
      "source": [
        "# Plot accuracy for models\n",
        "model_names = ['LSTM', 'KNN', 'SVM']\n",
        "accuracies = [lstm_eval[1], knn_accuracy, svm_accuracy]"
      ],
      "metadata": {
        "id": "1h13c9fqW84_"
      },
      "execution_count": 32,
      "outputs": []
    },
    {
      "cell_type": "code",
      "source": [
        "plt.bar(model_names, accuracies, color=['blue', 'green', 'red'])\n",
        "plt.xlabel('Models')\n",
        "plt.ylabel('Accuracy')\n",
        "plt.title('Model Accuracy Comparison')\n",
        "plt.ylim([0, 1])\n",
        "plt.show()"
      ],
      "metadata": {
        "id": "mzYotgpdW_Xl",
        "outputId": "63038d2d-a426-4b15-f4eb-56151130f19f",
        "colab": {
          "base_uri": "https://localhost:8080/",
          "height": 472
        }
      },
      "execution_count": 33,
      "outputs": [
        {
          "output_type": "display_data",
          "data": {
            "text/plain": [
              "<Figure size 640x480 with 1 Axes>"
            ],
            "image/png": "[encoded data removed]"
          },
          "metadata": {}
        }
      ]
    }
  ]
}